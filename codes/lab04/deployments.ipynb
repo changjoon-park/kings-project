{
 "cells": [
  {
   "cell_type": "code",
   "execution_count": 2,
   "metadata": {},
   "outputs": [],
   "source": [
    "# execute only once to add home directory\n",
    "import sys\n",
    "sys.path.insert(0,'../')\n",
    "\n",
    "# This will integrate functions to load the datasets. \n",
    "# There are four functions: one for X, one for y, and one for metadata associated with the samples, and one for time-index.\n",
    "import libs.utils\n",
    "\n",
    "# Important: change this parameter to the folder where you inserted the dataset (see README.md in lab 02)\n",
    "dataset_path = '../datasets/drebin/'"
   ]
  },
  {
   "cell_type": "code",
   "execution_count": 3,
   "metadata": {},
   "outputs": [
    {
     "name": "stdout",
     "output_type": "stream",
     "text": [
      "Loading data (feature representation X, and feature names)...\n",
      "Loading labels...\n",
      "Loading metadata...\n"
     ]
    }
   ],
   "source": [
    "import os\n",
    "import json\n",
    "import datetime\n",
    "import numpy as np\n",
    "from sklearn.svm import LinearSVC\n",
    "from sklearn.feature_extraction import DictVectorizer\n",
    "# from tesseract import evaluation, temporal \n",
    "from sklearn.model_selection import train_test_split\n",
    "\n",
    "os.environ[\"PATH\"] += os.pathsep + '/Library/TeX/texbin'\n",
    "\n",
    "X, feature_names = libs.utils.load_X(dataset_path, reduced=True)\n",
    "y = libs.utils.load_y(dataset_path)\n",
    "metadata = libs.utils.load_metadata(dataset_path)"
   ]
  },
  {
   "cell_type": "markdown",
   "metadata": {},
   "source": [
    "# Exercise\n",
    "\n",
    "Check the impacts of 'markets' (sampling bias) and 'labels' (label inaccuracy) on malware detection.\n",
    "\n",
    "Experiment to quantify impact: \n",
    "* Dataset $D_1$: 10,000 goodware from Play, 1,000 malware from Chinese markets\n",
    "* Dataset $D_2$: 10,000 goodware from Play, 1,000 malware from Play\n",
    "* Labels: Malware are apps detected by at least 10 VT antivirus scanners \n",
    "* Classifier: DREBIN's LinearSVM with C=1\n",
    "\n",
    "Check Recall, Precision, F1-Score on D1 and D2. \n",
    "\n",
    "Does anything change if you change the 'label threshold'? "
   ]
  },
  {
   "cell_type": "code",
   "execution_count": 5,
   "metadata": {},
   "outputs": [
    {
     "name": "stdout",
     "output_type": "stream",
     "text": [
      "Apps in Google Play Store: 234,024\n",
      "Apps in Other Markets: 24,275\n"
     ]
    }
   ],
   "source": [
    "## Hint to filter apps from different markets\n",
    "markets = []\n",
    "for o in metadata:\n",
    "    markets.append(o['markets'])\n",
    "\n",
    "mask_google = np.array(markets) == 'play.google.com'\n",
    "mask_else = np.array(['play' not in x for x in np.array(markets)])\n",
    "print('Apps in Google Play Store: {:,}'.format(np.sum(mask_google)))\n",
    "print('Apps in Other Markets: {:,}'.format(np.sum(mask_else)))"
   ]
  },
  {
   "cell_type": "code",
   "execution_count": 6,
   "metadata": {},
   "outputs": [
    {
     "data": {
      "text/plain": [
       "Counter({'play.google.com': 234024,\n",
       "         'anzhi': 16504,\n",
       "         'appchina': 5283,\n",
       "         'mi.com': 1741,\n",
       "         'play.google.com|appchina': 311,\n",
       "         'appchina|play.google.com': 295,\n",
       "         'fdroid': 195,\n",
       "         'appchina|anzhi': 147,\n",
       "         'anzhi|appchina': 136,\n",
       "         'anzhi|play.google.com': 101,\n",
       "         'mi.com|anzhi': 100,\n",
       "         'anzhi|mi.com': 88,\n",
       "         'play.google.com|anzhi': 79,\n",
       "         'hiapk': 45,\n",
       "         'play.google.com|mi.com': 39,\n",
       "         'mi.com|play.google.com': 36,\n",
       "         'slideme|play.google.com': 18,\n",
       "         'play.google.com|slideme': 11,\n",
       "         'hiapk|appchina': 8,\n",
       "         'appchina|hiapk': 6,\n",
       "         'play.google.com|appchina|anzhi': 5,\n",
       "         'angeeks': 5,\n",
       "         'anzhi|appchina|play.google.com': 5,\n",
       "         'anzhi|play.google.com|appchina': 4,\n",
       "         'mi.com|appchina': 4,\n",
       "         'slideme|appchina': 3,\n",
       "         'appchina|anzhi|play.google.com': 3,\n",
       "         'appchina|play.google.com|anzhi': 3,\n",
       "         'appchina|slideme': 2,\n",
       "         'mi.com|play.google.com|anzhi': 2,\n",
       "         'anzhi|mi.com|play.google.com': 2,\n",
       "         'play.google.com|appchina|hiapk': 2,\n",
       "         'play.google.com|hiapk|appchina': 2,\n",
       "         'appchina|hiapk|play.google.com': 2,\n",
       "         'appchina|mi.com': 2,\n",
       "         'unknown': 2,\n",
       "         'play.google.com|unknown': 1,\n",
       "         'play.google.com|anzhi|mi.com': 1,\n",
       "         'anzhi|play.google.com|mi.com': 1,\n",
       "         'play.google.com|mi.com|slideme': 1,\n",
       "         'play.google.com|mi.com|anzhi': 1,\n",
       "         'anzhi|appchina|hiapk': 1,\n",
       "         'play.google.com|anzhi|appchina': 1,\n",
       "         'play.google.com|appchina|mi.com|anzhi': 1,\n",
       "         'appchina|play.google.com|mi.com|anzhi': 1,\n",
       "         'anzhi|appchina|mi.com': 1,\n",
       "         'appchina|anzhi|mi.com': 1,\n",
       "         'appchina|play.google.com|slideme': 1,\n",
       "         'slideme|appchina|play.google.com': 1,\n",
       "         'mi.com|anzhi|play.google.com': 1,\n",
       "         'appchina|fdroid': 1})"
      ]
     },
     "execution_count": 6,
     "metadata": {},
     "output_type": "execute_result"
    }
   ],
   "source": [
    "# Hint to 'count' apps from different markets\n",
    "from collections import Counter\n",
    "Counter(markets)"
   ]
  },
  {
   "cell_type": "code",
   "execution_count": null,
   "metadata": {},
   "outputs": [],
   "source": []
  }
 ],
 "metadata": {
  "kernelspec": {
   "display_name": "env310",
   "language": "python",
   "name": "env310"
  },
  "language_info": {
   "codemirror_mode": {
    "name": "ipython",
    "version": 3
   },
   "file_extension": ".py",
   "mimetype": "text/x-python",
   "name": "python",
   "nbconvert_exporter": "python",
   "pygments_lexer": "ipython3",
   "version": "3.10.14"
  },
  "vscode": {
   "interpreter": {
    "hash": "aee8b7b246df8f9039afb4144a1f6fd8d2ca17a180786b69acc140d282b71a49"
   }
  }
 },
 "nbformat": 4,
 "nbformat_minor": 4
}
