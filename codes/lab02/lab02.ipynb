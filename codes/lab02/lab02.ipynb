{
 "cells": [
  {
   "cell_type": "code",
   "execution_count": 1,
   "metadata": {},
   "outputs": [],
   "source": [
    "# execute only once to add home directory\n",
    "import sys\n",
    "sys.path.insert(0,'../')\n",
    "# This will integrate functions to load the datasets. \n",
    "# There are four functions: one for X, one for y, and one for metadata associated with the samples, and one for time-index.\n",
    "import libs.utils\n",
    "\n",
    "# Important: change this parameter to the folder where you inserted the dataset (see README.md in lab 02)\n",
    "dataset_path = '../datasets/drebin/'"
   ]
  },
  {
   "cell_type": "code",
   "execution_count": 2,
   "metadata": {},
   "outputs": [],
   "source": [
    "import json\n",
    "import pickle\n",
    "import datetime\n",
    "import numpy as np\n",
    "from sklearn.feature_extraction import DictVectorizer\n",
    "from sklearn.model_selection import train_test_split\n",
    "from sklearn.svm import LinearSVC\n",
    "from sklearn.metrics import f1_score"
   ]
  },
  {
   "cell_type": "code",
   "execution_count": 3,
   "metadata": {},
   "outputs": [
    {
     "name": "stdout",
     "output_type": "stream",
     "text": [
      "Loading data (feature representation X, and feature names)...\n",
      "Loading labels...\n",
      "Loading metadata...\n",
      "F1 score: 0.8608780487804878\n"
     ]
    }
   ],
   "source": [
    "# Flag reduced=True loads only the top 10k features; reduced=False loads the entire dataset of featues\n",
    "X, feature_names = libs.utils.load_X(dataset_path, reduced=True)\n",
    "y = libs.utils.load_y(dataset_path)\n",
    "metadata = libs.utils.load_metadata(dataset_path)\n",
    "\n",
    "# Split data into training and testing sets\n",
    "X_train, X_test, y_train, y_test = train_test_split(X, y, test_size=0.2, random_state=42)\n",
    "\n",
    "# Machine learning model: Linear SVM (liblinear implementation)\n",
    "model = LinearSVC(C=1, dual=True, max_iter=10000)\n",
    "\n",
    "# Train the model\n",
    "model.fit(X_train, y_train)\n",
    "\n",
    "# Make predictions on the test set\n",
    "y_pred = model.predict(X_test)\n",
    "\n",
    "# Calculate F1 score\n",
    "f1 = f1_score(y_test, y_pred)\n",
    "\n",
    "# Print the F1 score\n",
    "print(\"F1 score:\", f1)"
   ]
  },
  {
   "cell_type": "markdown",
   "metadata": {},
   "source": [
    "# Exercise: Time-aware Evaluation\n",
    "\n",
    "Use the Tesseract library to visualize the time-aware performance of the LinearSVC classifier. \n",
    "\n",
    "Advice: create a Python virtual environment with Python3.10 to install the tesseract library from: https://github.com/s2labres/tesseract-ml-release\n",
    "\n",
    "To register the virtual environment on the Python notebook:\n",
    "```bash\n",
    "python -m ipykernel install --user --name <env-name>\n",
    "```\n",
    "where env-name matches the name of the environment. \n"
   ]
  },
  {
   "cell_type": "code",
   "execution_count": null,
   "metadata": {},
   "outputs": [],
   "source": []
  }
 ],
 "metadata": {
  "kernelspec": {
   "display_name": "env310",
   "language": "python",
   "name": "env310"
  },
  "language_info": {
   "codemirror_mode": {
    "name": "ipython",
    "version": 3
   },
   "file_extension": ".py",
   "mimetype": "text/x-python",
   "name": "python",
   "nbconvert_exporter": "python",
   "pygments_lexer": "ipython3",
   "version": "3.10.14"
  }
 },
 "nbformat": 4,
 "nbformat_minor": 4
}
